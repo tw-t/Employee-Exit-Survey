{
 "cells": [
  {
   "cell_type": "markdown",
   "metadata": {
    "collapsed": true
   },
   "source": [
    "## Introduction\n",
    "\n",
    "In this project, we will be exploring data of employees' exist surverys from the Department of Education, Training and Employment (DETE) and Technical and Further Education (TAFE) institute in Queensland, Australia.\n",
    "\n",
    "Original data and complete documentation could be found [here](https://data.gov.au/dataset/ds-qld-fe96ff30-d157-4a81-851d-215f2a0fe26d/details?q=exit%20survey) and [here](https://data.gov.au/dataset/ds-qld-89970a3b-182b-41ea-aea2-6f9f17b5907e/details?q=exit%20survey).\n",
    "\n",
    "We will try to answer the following questions:\n",
    "- Are employees who only worked for the institues for a short period of time resigning due to some kind of dissatisfaction? What about employees who have been there longer? (employment length)\n",
    "- Are younger employees resigning due to some kind of dissatisfaction? What about older employees? (age)"
   ]
  },
  {
   "cell_type": "code",
   "execution_count": 1,
   "metadata": {
    "collapsed": true
   },
   "outputs": [],
   "source": [
    "# read data set\n",
    "import numpy as np\n",
    "import pandas as pd\n",
    "\n",
    "with open('dete_survey.csv', 'r') as file:\n",
    "    dete_survey = pd.read_csv(file)\n",
    "    \n",
    "with open('tafe_survey.csv', 'r') as file:\n",
    "    tafe_survey = pd.read_csv(file)"
   ]
  },
  {
   "cell_type": "code",
   "execution_count": 2,
   "metadata": {
    "collapsed": false
   },
   "outputs": [
    {
     "name": "stdout",
     "output_type": "stream",
     "text": [
      "<class 'pandas.core.frame.DataFrame'>\n",
      "RangeIndex: 822 entries, 0 to 821\n",
      "Data columns (total 56 columns):\n",
      "ID                                     822 non-null int64\n",
      "SeparationType                         822 non-null object\n",
      "Cease Date                             822 non-null object\n",
      "DETE Start Date                        822 non-null object\n",
      "Role Start Date                        822 non-null object\n",
      "Position                               817 non-null object\n",
      "Classification                         455 non-null object\n",
      "Region                                 822 non-null object\n",
      "Business Unit                          126 non-null object\n",
      "Employment Status                      817 non-null object\n",
      "Career move to public sector           822 non-null bool\n",
      "Career move to private sector          822 non-null bool\n",
      "Interpersonal conflicts                822 non-null bool\n",
      "Job dissatisfaction                    822 non-null bool\n",
      "Dissatisfaction with the department    822 non-null bool\n",
      "Physical work environment              822 non-null bool\n",
      "Lack of recognition                    822 non-null bool\n",
      "Lack of job security                   822 non-null bool\n",
      "Work location                          822 non-null bool\n",
      "Employment conditions                  822 non-null bool\n",
      "Maternity/family                       822 non-null bool\n",
      "Relocation                             822 non-null bool\n",
      "Study/Travel                           822 non-null bool\n",
      "Ill Health                             822 non-null bool\n",
      "Traumatic incident                     822 non-null bool\n",
      "Work life balance                      822 non-null bool\n",
      "Workload                               822 non-null bool\n",
      "None of the above                      822 non-null bool\n",
      "Professional Development               808 non-null object\n",
      "Opportunities for promotion            735 non-null object\n",
      "Staff morale                           816 non-null object\n",
      "Workplace issue                        788 non-null object\n",
      "Physical environment                   817 non-null object\n",
      "Worklife balance                       815 non-null object\n",
      "Stress and pressure support            810 non-null object\n",
      "Performance of supervisor              813 non-null object\n",
      "Peer support                           812 non-null object\n",
      "Initiative                             813 non-null object\n",
      "Skills                                 811 non-null object\n",
      "Coach                                  767 non-null object\n",
      "Career Aspirations                     746 non-null object\n",
      "Feedback                               792 non-null object\n",
      "Further PD                             768 non-null object\n",
      "Communication                          814 non-null object\n",
      "My say                                 812 non-null object\n",
      "Information                            816 non-null object\n",
      "Kept informed                          813 non-null object\n",
      "Wellness programs                      766 non-null object\n",
      "Health & Safety                        793 non-null object\n",
      "Gender                                 798 non-null object\n",
      "Age                                    811 non-null object\n",
      "Aboriginal                             16 non-null object\n",
      "Torres Strait                          3 non-null object\n",
      "South Sea                              7 non-null object\n",
      "Disability                             23 non-null object\n",
      "NESB                                   32 non-null object\n",
      "dtypes: bool(18), int64(1), object(37)\n",
      "memory usage: 258.6+ KB\n"
     ]
    },
    {
     "data": {
      "text/html": [
       "<div>\n",
       "<style scoped>\n",
       "    .dataframe tbody tr th:only-of-type {\n",
       "        vertical-align: middle;\n",
       "    }\n",
       "\n",
       "    .dataframe tbody tr th {\n",
       "        vertical-align: top;\n",
       "    }\n",
       "\n",
       "    .dataframe thead th {\n",
       "        text-align: right;\n",
       "    }\n",
       "</style>\n",
       "<table border=\"1\" class=\"dataframe\">\n",
       "  <thead>\n",
       "    <tr style=\"text-align: right;\">\n",
       "      <th></th>\n",
       "      <th>ID</th>\n",
       "      <th>SeparationType</th>\n",
       "      <th>Cease Date</th>\n",
       "      <th>DETE Start Date</th>\n",
       "      <th>Role Start Date</th>\n",
       "      <th>Position</th>\n",
       "      <th>Classification</th>\n",
       "      <th>Region</th>\n",
       "      <th>Business Unit</th>\n",
       "      <th>Employment Status</th>\n",
       "      <th>...</th>\n",
       "      <th>Kept informed</th>\n",
       "      <th>Wellness programs</th>\n",
       "      <th>Health &amp; Safety</th>\n",
       "      <th>Gender</th>\n",
       "      <th>Age</th>\n",
       "      <th>Aboriginal</th>\n",
       "      <th>Torres Strait</th>\n",
       "      <th>South Sea</th>\n",
       "      <th>Disability</th>\n",
       "      <th>NESB</th>\n",
       "    </tr>\n",
       "  </thead>\n",
       "  <tbody>\n",
       "    <tr>\n",
       "      <th>0</th>\n",
       "      <td>1</td>\n",
       "      <td>Ill Health Retirement</td>\n",
       "      <td>08/2012</td>\n",
       "      <td>1984</td>\n",
       "      <td>2004</td>\n",
       "      <td>Public Servant</td>\n",
       "      <td>A01-A04</td>\n",
       "      <td>Central Office</td>\n",
       "      <td>Corporate Strategy and Peformance</td>\n",
       "      <td>Permanent Full-time</td>\n",
       "      <td>...</td>\n",
       "      <td>N</td>\n",
       "      <td>N</td>\n",
       "      <td>N</td>\n",
       "      <td>Male</td>\n",
       "      <td>56-60</td>\n",
       "      <td>NaN</td>\n",
       "      <td>NaN</td>\n",
       "      <td>NaN</td>\n",
       "      <td>NaN</td>\n",
       "      <td>Yes</td>\n",
       "    </tr>\n",
       "    <tr>\n",
       "      <th>1</th>\n",
       "      <td>2</td>\n",
       "      <td>Voluntary Early Retirement (VER)</td>\n",
       "      <td>08/2012</td>\n",
       "      <td>Not Stated</td>\n",
       "      <td>Not Stated</td>\n",
       "      <td>Public Servant</td>\n",
       "      <td>AO5-AO7</td>\n",
       "      <td>Central Office</td>\n",
       "      <td>Corporate Strategy and Peformance</td>\n",
       "      <td>Permanent Full-time</td>\n",
       "      <td>...</td>\n",
       "      <td>N</td>\n",
       "      <td>N</td>\n",
       "      <td>N</td>\n",
       "      <td>Male</td>\n",
       "      <td>56-60</td>\n",
       "      <td>NaN</td>\n",
       "      <td>NaN</td>\n",
       "      <td>NaN</td>\n",
       "      <td>NaN</td>\n",
       "      <td>NaN</td>\n",
       "    </tr>\n",
       "    <tr>\n",
       "      <th>2</th>\n",
       "      <td>3</td>\n",
       "      <td>Voluntary Early Retirement (VER)</td>\n",
       "      <td>05/2012</td>\n",
       "      <td>2011</td>\n",
       "      <td>2011</td>\n",
       "      <td>Schools Officer</td>\n",
       "      <td>NaN</td>\n",
       "      <td>Central Office</td>\n",
       "      <td>Education Queensland</td>\n",
       "      <td>Permanent Full-time</td>\n",
       "      <td>...</td>\n",
       "      <td>N</td>\n",
       "      <td>N</td>\n",
       "      <td>N</td>\n",
       "      <td>Male</td>\n",
       "      <td>61 or older</td>\n",
       "      <td>NaN</td>\n",
       "      <td>NaN</td>\n",
       "      <td>NaN</td>\n",
       "      <td>NaN</td>\n",
       "      <td>NaN</td>\n",
       "    </tr>\n",
       "    <tr>\n",
       "      <th>3</th>\n",
       "      <td>4</td>\n",
       "      <td>Resignation-Other reasons</td>\n",
       "      <td>05/2012</td>\n",
       "      <td>2005</td>\n",
       "      <td>2006</td>\n",
       "      <td>Teacher</td>\n",
       "      <td>Primary</td>\n",
       "      <td>Central Queensland</td>\n",
       "      <td>NaN</td>\n",
       "      <td>Permanent Full-time</td>\n",
       "      <td>...</td>\n",
       "      <td>A</td>\n",
       "      <td>N</td>\n",
       "      <td>A</td>\n",
       "      <td>Female</td>\n",
       "      <td>36-40</td>\n",
       "      <td>NaN</td>\n",
       "      <td>NaN</td>\n",
       "      <td>NaN</td>\n",
       "      <td>NaN</td>\n",
       "      <td>NaN</td>\n",
       "    </tr>\n",
       "    <tr>\n",
       "      <th>4</th>\n",
       "      <td>5</td>\n",
       "      <td>Age Retirement</td>\n",
       "      <td>05/2012</td>\n",
       "      <td>1970</td>\n",
       "      <td>1989</td>\n",
       "      <td>Head of Curriculum/Head of Special Education</td>\n",
       "      <td>NaN</td>\n",
       "      <td>South East</td>\n",
       "      <td>NaN</td>\n",
       "      <td>Permanent Full-time</td>\n",
       "      <td>...</td>\n",
       "      <td>N</td>\n",
       "      <td>A</td>\n",
       "      <td>M</td>\n",
       "      <td>Female</td>\n",
       "      <td>61 or older</td>\n",
       "      <td>NaN</td>\n",
       "      <td>NaN</td>\n",
       "      <td>NaN</td>\n",
       "      <td>NaN</td>\n",
       "      <td>NaN</td>\n",
       "    </tr>\n",
       "  </tbody>\n",
       "</table>\n",
       "<p>5 rows × 56 columns</p>\n",
       "</div>"
      ],
      "text/plain": [
       "   ID                    SeparationType Cease Date DETE Start Date  \\\n",
       "0   1             Ill Health Retirement    08/2012            1984   \n",
       "1   2  Voluntary Early Retirement (VER)    08/2012      Not Stated   \n",
       "2   3  Voluntary Early Retirement (VER)    05/2012            2011   \n",
       "3   4         Resignation-Other reasons    05/2012            2005   \n",
       "4   5                    Age Retirement    05/2012            1970   \n",
       "\n",
       "  Role Start Date                                      Position  \\\n",
       "0            2004                                Public Servant   \n",
       "1      Not Stated                                Public Servant   \n",
       "2            2011                               Schools Officer   \n",
       "3            2006                                       Teacher   \n",
       "4            1989  Head of Curriculum/Head of Special Education   \n",
       "\n",
       "  Classification              Region                      Business Unit  \\\n",
       "0        A01-A04      Central Office  Corporate Strategy and Peformance   \n",
       "1        AO5-AO7      Central Office  Corporate Strategy and Peformance   \n",
       "2            NaN      Central Office               Education Queensland   \n",
       "3        Primary  Central Queensland                                NaN   \n",
       "4            NaN          South East                                NaN   \n",
       "\n",
       "     Employment Status  ...   Kept informed  Wellness programs  \\\n",
       "0  Permanent Full-time  ...               N                  N   \n",
       "1  Permanent Full-time  ...               N                  N   \n",
       "2  Permanent Full-time  ...               N                  N   \n",
       "3  Permanent Full-time  ...               A                  N   \n",
       "4  Permanent Full-time  ...               N                  A   \n",
       "\n",
       "   Health & Safety  Gender          Age  Aboriginal  Torres Strait  South Sea  \\\n",
       "0                N    Male        56-60         NaN            NaN        NaN   \n",
       "1                N    Male        56-60         NaN            NaN        NaN   \n",
       "2                N    Male  61 or older         NaN            NaN        NaN   \n",
       "3                A  Female        36-40         NaN            NaN        NaN   \n",
       "4                M  Female  61 or older         NaN            NaN        NaN   \n",
       "\n",
       "   Disability  NESB  \n",
       "0         NaN   Yes  \n",
       "1         NaN   NaN  \n",
       "2         NaN   NaN  \n",
       "3         NaN   NaN  \n",
       "4         NaN   NaN  \n",
       "\n",
       "[5 rows x 56 columns]"
      ]
     },
     "execution_count": 2,
     "metadata": {},
     "output_type": "execute_result"
    }
   ],
   "source": [
    "# exploring DETE data set\n",
    "\n",
    "dete_survey.info()\n",
    "dete_survey.head()"
   ]
  },
  {
   "cell_type": "code",
   "execution_count": 3,
   "metadata": {
    "collapsed": false,
    "scrolled": true
   },
   "outputs": [
    {
     "data": {
      "text/plain": [
       "61 or older      222\n",
       "56-60            174\n",
       "51-55            103\n",
       "46-50             63\n",
       "41-45             61\n",
       "26-30             57\n",
       "36-40             51\n",
       "21-25             40\n",
       "31-35             39\n",
       "20 or younger      1\n",
       "Name: Age, dtype: int64"
      ]
     },
     "execution_count": 3,
     "metadata": {},
     "output_type": "execute_result"
    }
   ],
   "source": [
    "dete_survey[\"Age\"].value_counts()"
   ]
  },
  {
   "cell_type": "markdown",
   "metadata": {},
   "source": [
    "We see that for the data set from DETE, there are 56 features and 822 entries. We can already identify some data cleaning processes from this preliminary exploration, such as:\n",
    "- Dropping columns: certain columns such as \"Classification\", \"Business Unit\", \"Aboriginal\" and such have more than half of its data missing, hence are possible candidates to be dropped.\n",
    "- Reformatting dtype: datetime columns are still saved as objects. Since one of focus of our analysis will be based on length of employment, reformatting the data will allow us to access specific methods that will improve ease of calculation.\n",
    "- Restructuring \"Age\": another focus of our analysis will be based on the age of the employee, which is currently being grouped into 10 brackets, we could consider re-grouping the ages to match the needs of our analysis."
   ]
  },
  {
   "cell_type": "code",
   "execution_count": 4,
   "metadata": {
    "collapsed": false
   },
   "outputs": [
    {
     "name": "stdout",
     "output_type": "stream",
     "text": [
      "<class 'pandas.core.frame.DataFrame'>\n",
      "RangeIndex: 702 entries, 0 to 701\n",
      "Data columns (total 72 columns):\n",
      "Record ID                                                                                                                                                        702 non-null float64\n",
      "Institute                                                                                                                                                        702 non-null object\n",
      "WorkArea                                                                                                                                                         702 non-null object\n",
      "CESSATION YEAR                                                                                                                                                   695 non-null float64\n",
      "Reason for ceasing employment                                                                                                                                    701 non-null object\n",
      "Contributing Factors. Career Move - Public Sector                                                                                                                437 non-null object\n",
      "Contributing Factors. Career Move - Private Sector                                                                                                               437 non-null object\n",
      "Contributing Factors. Career Move - Self-employment                                                                                                              437 non-null object\n",
      "Contributing Factors. Ill Health                                                                                                                                 437 non-null object\n",
      "Contributing Factors. Maternity/Family                                                                                                                           437 non-null object\n",
      "Contributing Factors. Dissatisfaction                                                                                                                            437 non-null object\n",
      "Contributing Factors. Job Dissatisfaction                                                                                                                        437 non-null object\n",
      "Contributing Factors. Interpersonal Conflict                                                                                                                     437 non-null object\n",
      "Contributing Factors. Study                                                                                                                                      437 non-null object\n",
      "Contributing Factors. Travel                                                                                                                                     437 non-null object\n",
      "Contributing Factors. Other                                                                                                                                      437 non-null object\n",
      "Contributing Factors. NONE                                                                                                                                       437 non-null object\n",
      "Main Factor. Which of these was the main factor for leaving?                                                                                                     113 non-null object\n",
      "InstituteViews. Topic:1. I feel the senior leadership had a clear vision and direction                                                                           608 non-null object\n",
      "InstituteViews. Topic:2. I was given access to skills training to help me do my job better                                                                       613 non-null object\n",
      "InstituteViews. Topic:3. I was given adequate opportunities for personal development                                                                             610 non-null object\n",
      "InstituteViews. Topic:4. I was given adequate opportunities for promotion within %Institute]Q25LBL%                                                              608 non-null object\n",
      "InstituteViews. Topic:5. I felt the salary for the job was right for the responsibilities I had                                                                  615 non-null object\n",
      "InstituteViews. Topic:6. The organisation recognised when staff did good work                                                                                    607 non-null object\n",
      "InstituteViews. Topic:7. Management was generally supportive of me                                                                                               614 non-null object\n",
      "InstituteViews. Topic:8. Management was generally supportive of my team                                                                                          608 non-null object\n",
      "InstituteViews. Topic:9. I was kept informed of the changes in the organisation which would affect me                                                            610 non-null object\n",
      "InstituteViews. Topic:10. Staff morale was positive within the Institute                                                                                         602 non-null object\n",
      "InstituteViews. Topic:11. If I had a workplace issue it was dealt with quickly                                                                                   601 non-null object\n",
      "InstituteViews. Topic:12. If I had a workplace issue it was dealt with efficiently                                                                               597 non-null object\n",
      "InstituteViews. Topic:13. If I had a workplace issue it was dealt with discreetly                                                                                601 non-null object\n",
      "WorkUnitViews. Topic:14. I was satisfied with the quality of the management and supervision within my work unit                                                  609 non-null object\n",
      "WorkUnitViews. Topic:15. I worked well with my colleagues                                                                                                        605 non-null object\n",
      "WorkUnitViews. Topic:16. My job was challenging and interesting                                                                                                  607 non-null object\n",
      "WorkUnitViews. Topic:17. I was encouraged to use my initiative in the course of my work                                                                          610 non-null object\n",
      "WorkUnitViews. Topic:18. I had sufficient contact with other people in my job                                                                                    613 non-null object\n",
      "WorkUnitViews. Topic:19. I was given adequate support and co-operation by my peers to enable me to do my job                                                     609 non-null object\n",
      "WorkUnitViews. Topic:20. I was able to use the full range of my skills in my job                                                                                 609 non-null object\n",
      "WorkUnitViews. Topic:21. I was able to use the full range of my abilities in my job. ; Category:Level of Agreement; Question:YOUR VIEWS ABOUT YOUR WORK UNIT]    608 non-null object\n",
      "WorkUnitViews. Topic:22. I was able to use the full range of my knowledge in my job                                                                              608 non-null object\n",
      "WorkUnitViews. Topic:23. My job provided sufficient variety                                                                                                      611 non-null object\n",
      "WorkUnitViews. Topic:24. I was able to cope with the level of stress and pressure in my job                                                                      610 non-null object\n",
      "WorkUnitViews. Topic:25. My job allowed me to balance the demands of work and family to my satisfaction                                                          611 non-null object\n",
      "WorkUnitViews. Topic:26. My supervisor gave me adequate personal recognition and feedback on my performance                                                      606 non-null object\n",
      "WorkUnitViews. Topic:27. My working environment was satisfactory e.g. sufficient space, good lighting, suitable seating and working area                         610 non-null object\n",
      "WorkUnitViews. Topic:28. I was given the opportunity to mentor and coach others in order for me to pass on my skills and knowledge prior to my cessation date    609 non-null object\n",
      "WorkUnitViews. Topic:29. There was adequate communication between staff in my unit                                                                               603 non-null object\n",
      "WorkUnitViews. Topic:30. Staff morale was positive within my work unit                                                                                           606 non-null object\n",
      "Induction. Did you undertake Workplace Induction?                                                                                                                619 non-null object\n",
      "InductionInfo. Topic:Did you undertake a Corporate Induction?                                                                                                    432 non-null object\n",
      "InductionInfo. Topic:Did you undertake a Institute Induction?                                                                                                    483 non-null object\n",
      "InductionInfo. Topic: Did you undertake Team Induction?                                                                                                          440 non-null object\n",
      "InductionInfo. Face to Face Topic:Did you undertake a Corporate Induction; Category:How it was conducted?                                                        555 non-null object\n",
      "InductionInfo. On-line Topic:Did you undertake a Corporate Induction; Category:How it was conducted?                                                             555 non-null object\n",
      "InductionInfo. Induction Manual Topic:Did you undertake a Corporate Induction?                                                                                   555 non-null object\n",
      "InductionInfo. Face to Face Topic:Did you undertake a Institute Induction?                                                                                       530 non-null object\n",
      "InductionInfo. On-line Topic:Did you undertake a Institute Induction?                                                                                            555 non-null object\n",
      "InductionInfo. Induction Manual Topic:Did you undertake a Institute Induction?                                                                                   553 non-null object\n",
      "InductionInfo. Face to Face Topic: Did you undertake Team Induction; Category?                                                                                   555 non-null object\n",
      "InductionInfo. On-line Topic: Did you undertake Team Induction?process you undertook and how it was conducted.]                                                  555 non-null object\n",
      "InductionInfo. Induction Manual Topic: Did you undertake Team Induction?                                                                                         555 non-null object\n",
      "Workplace. Topic:Did you and your Manager develop a Performance and Professional Development Plan (PPDP)?                                                        608 non-null object\n",
      "Workplace. Topic:Does your workplace promote a work culture free from all forms of unlawful discrimination?                                                      594 non-null object\n",
      "Workplace. Topic:Does your workplace promote and practice the principles of employment equity?                                                                   587 non-null object\n",
      "Workplace. Topic:Does your workplace value the diversity of its employees?                                                                                       586 non-null object\n",
      "Workplace. Topic:Would you recommend the Institute as an employer to others?                                                                                     581 non-null object\n",
      "Gender. What is your Gender?                                                                                                                                     596 non-null object\n",
      "CurrentAge. Current Age                                                                                                                                          596 non-null object\n",
      "Employment Type. Employment Type                                                                                                                                 596 non-null object\n",
      "Classification. Classification                                                                                                                                   596 non-null object\n",
      "LengthofServiceOverall. Overall Length of Service at Institute (in years)                                                                                        596 non-null object\n",
      "LengthofServiceCurrent. Length of Service at current workplace (in years)                                                                                        596 non-null object\n",
      "dtypes: float64(2), object(70)\n",
      "memory usage: 395.0+ KB\n"
     ]
    },
    {
     "data": {
      "text/html": [
       "<div>\n",
       "<style scoped>\n",
       "    .dataframe tbody tr th:only-of-type {\n",
       "        vertical-align: middle;\n",
       "    }\n",
       "\n",
       "    .dataframe tbody tr th {\n",
       "        vertical-align: top;\n",
       "    }\n",
       "\n",
       "    .dataframe thead th {\n",
       "        text-align: right;\n",
       "    }\n",
       "</style>\n",
       "<table border=\"1\" class=\"dataframe\">\n",
       "  <thead>\n",
       "    <tr style=\"text-align: right;\">\n",
       "      <th></th>\n",
       "      <th>Record ID</th>\n",
       "      <th>Institute</th>\n",
       "      <th>WorkArea</th>\n",
       "      <th>CESSATION YEAR</th>\n",
       "      <th>Reason for ceasing employment</th>\n",
       "      <th>Contributing Factors. Career Move - Public Sector</th>\n",
       "      <th>Contributing Factors. Career Move - Private Sector</th>\n",
       "      <th>Contributing Factors. Career Move - Self-employment</th>\n",
       "      <th>Contributing Factors. Ill Health</th>\n",
       "      <th>Contributing Factors. Maternity/Family</th>\n",
       "      <th>...</th>\n",
       "      <th>Workplace. Topic:Does your workplace promote a work culture free from all forms of unlawful discrimination?</th>\n",
       "      <th>Workplace. Topic:Does your workplace promote and practice the principles of employment equity?</th>\n",
       "      <th>Workplace. Topic:Does your workplace value the diversity of its employees?</th>\n",
       "      <th>Workplace. Topic:Would you recommend the Institute as an employer to others?</th>\n",
       "      <th>Gender. What is your Gender?</th>\n",
       "      <th>CurrentAge. Current Age</th>\n",
       "      <th>Employment Type. Employment Type</th>\n",
       "      <th>Classification. Classification</th>\n",
       "      <th>LengthofServiceOverall. Overall Length of Service at Institute (in years)</th>\n",
       "      <th>LengthofServiceCurrent. Length of Service at current workplace (in years)</th>\n",
       "    </tr>\n",
       "  </thead>\n",
       "  <tbody>\n",
       "    <tr>\n",
       "      <th>0</th>\n",
       "      <td>6.341330e+17</td>\n",
       "      <td>Southern Queensland Institute of TAFE</td>\n",
       "      <td>Non-Delivery (corporate)</td>\n",
       "      <td>2010.0</td>\n",
       "      <td>Contract Expired</td>\n",
       "      <td>NaN</td>\n",
       "      <td>NaN</td>\n",
       "      <td>NaN</td>\n",
       "      <td>NaN</td>\n",
       "      <td>NaN</td>\n",
       "      <td>...</td>\n",
       "      <td>Yes</td>\n",
       "      <td>Yes</td>\n",
       "      <td>Yes</td>\n",
       "      <td>Yes</td>\n",
       "      <td>Female</td>\n",
       "      <td>26  30</td>\n",
       "      <td>Temporary Full-time</td>\n",
       "      <td>Administration (AO)</td>\n",
       "      <td>1-2</td>\n",
       "      <td>1-2</td>\n",
       "    </tr>\n",
       "    <tr>\n",
       "      <th>1</th>\n",
       "      <td>6.341337e+17</td>\n",
       "      <td>Mount Isa Institute of TAFE</td>\n",
       "      <td>Non-Delivery (corporate)</td>\n",
       "      <td>2010.0</td>\n",
       "      <td>Retirement</td>\n",
       "      <td>-</td>\n",
       "      <td>-</td>\n",
       "      <td>-</td>\n",
       "      <td>-</td>\n",
       "      <td>-</td>\n",
       "      <td>...</td>\n",
       "      <td>Yes</td>\n",
       "      <td>Yes</td>\n",
       "      <td>Yes</td>\n",
       "      <td>Yes</td>\n",
       "      <td>NaN</td>\n",
       "      <td>NaN</td>\n",
       "      <td>NaN</td>\n",
       "      <td>NaN</td>\n",
       "      <td>NaN</td>\n",
       "      <td>NaN</td>\n",
       "    </tr>\n",
       "    <tr>\n",
       "      <th>2</th>\n",
       "      <td>6.341388e+17</td>\n",
       "      <td>Mount Isa Institute of TAFE</td>\n",
       "      <td>Delivery (teaching)</td>\n",
       "      <td>2010.0</td>\n",
       "      <td>Retirement</td>\n",
       "      <td>-</td>\n",
       "      <td>-</td>\n",
       "      <td>-</td>\n",
       "      <td>-</td>\n",
       "      <td>-</td>\n",
       "      <td>...</td>\n",
       "      <td>Yes</td>\n",
       "      <td>Yes</td>\n",
       "      <td>Yes</td>\n",
       "      <td>Yes</td>\n",
       "      <td>NaN</td>\n",
       "      <td>NaN</td>\n",
       "      <td>NaN</td>\n",
       "      <td>NaN</td>\n",
       "      <td>NaN</td>\n",
       "      <td>NaN</td>\n",
       "    </tr>\n",
       "    <tr>\n",
       "      <th>3</th>\n",
       "      <td>6.341399e+17</td>\n",
       "      <td>Mount Isa Institute of TAFE</td>\n",
       "      <td>Non-Delivery (corporate)</td>\n",
       "      <td>2010.0</td>\n",
       "      <td>Resignation</td>\n",
       "      <td>-</td>\n",
       "      <td>-</td>\n",
       "      <td>-</td>\n",
       "      <td>-</td>\n",
       "      <td>-</td>\n",
       "      <td>...</td>\n",
       "      <td>Yes</td>\n",
       "      <td>Yes</td>\n",
       "      <td>Yes</td>\n",
       "      <td>Yes</td>\n",
       "      <td>NaN</td>\n",
       "      <td>NaN</td>\n",
       "      <td>NaN</td>\n",
       "      <td>NaN</td>\n",
       "      <td>NaN</td>\n",
       "      <td>NaN</td>\n",
       "    </tr>\n",
       "    <tr>\n",
       "      <th>4</th>\n",
       "      <td>6.341466e+17</td>\n",
       "      <td>Southern Queensland Institute of TAFE</td>\n",
       "      <td>Delivery (teaching)</td>\n",
       "      <td>2010.0</td>\n",
       "      <td>Resignation</td>\n",
       "      <td>-</td>\n",
       "      <td>Career Move - Private Sector</td>\n",
       "      <td>-</td>\n",
       "      <td>-</td>\n",
       "      <td>-</td>\n",
       "      <td>...</td>\n",
       "      <td>Yes</td>\n",
       "      <td>Yes</td>\n",
       "      <td>Yes</td>\n",
       "      <td>Yes</td>\n",
       "      <td>Male</td>\n",
       "      <td>41  45</td>\n",
       "      <td>Permanent Full-time</td>\n",
       "      <td>Teacher (including LVT)</td>\n",
       "      <td>3-4</td>\n",
       "      <td>3-4</td>\n",
       "    </tr>\n",
       "  </tbody>\n",
       "</table>\n",
       "<p>5 rows × 72 columns</p>\n",
       "</div>"
      ],
      "text/plain": [
       "      Record ID                              Institute  \\\n",
       "0  6.341330e+17  Southern Queensland Institute of TAFE   \n",
       "1  6.341337e+17            Mount Isa Institute of TAFE   \n",
       "2  6.341388e+17            Mount Isa Institute of TAFE   \n",
       "3  6.341399e+17            Mount Isa Institute of TAFE   \n",
       "4  6.341466e+17  Southern Queensland Institute of TAFE   \n",
       "\n",
       "                   WorkArea  CESSATION YEAR Reason for ceasing employment  \\\n",
       "0  Non-Delivery (corporate)          2010.0              Contract Expired   \n",
       "1  Non-Delivery (corporate)          2010.0                    Retirement   \n",
       "2       Delivery (teaching)          2010.0                    Retirement   \n",
       "3  Non-Delivery (corporate)          2010.0                   Resignation   \n",
       "4       Delivery (teaching)          2010.0                   Resignation   \n",
       "\n",
       "  Contributing Factors. Career Move - Public Sector   \\\n",
       "0                                                NaN   \n",
       "1                                                  -   \n",
       "2                                                  -   \n",
       "3                                                  -   \n",
       "4                                                  -   \n",
       "\n",
       "  Contributing Factors. Career Move - Private Sector   \\\n",
       "0                                                NaN    \n",
       "1                                                  -    \n",
       "2                                                  -    \n",
       "3                                                  -    \n",
       "4                       Career Move - Private Sector    \n",
       "\n",
       "  Contributing Factors. Career Move - Self-employment  \\\n",
       "0                                                NaN    \n",
       "1                                                  -    \n",
       "2                                                  -    \n",
       "3                                                  -    \n",
       "4                                                  -    \n",
       "\n",
       "  Contributing Factors. Ill Health Contributing Factors. Maternity/Family  \\\n",
       "0                              NaN                                    NaN   \n",
       "1                                -                                      -   \n",
       "2                                -                                      -   \n",
       "3                                -                                      -   \n",
       "4                                -                                      -   \n",
       "\n",
       "                                     ...                                     \\\n",
       "0                                    ...                                      \n",
       "1                                    ...                                      \n",
       "2                                    ...                                      \n",
       "3                                    ...                                      \n",
       "4                                    ...                                      \n",
       "\n",
       "  Workplace. Topic:Does your workplace promote a work culture free from all forms of unlawful discrimination?  \\\n",
       "0                                                Yes                                                            \n",
       "1                                                Yes                                                            \n",
       "2                                                Yes                                                            \n",
       "3                                                Yes                                                            \n",
       "4                                                Yes                                                            \n",
       "\n",
       "  Workplace. Topic:Does your workplace promote and practice the principles of employment equity?  \\\n",
       "0                                                Yes                                               \n",
       "1                                                Yes                                               \n",
       "2                                                Yes                                               \n",
       "3                                                Yes                                               \n",
       "4                                                Yes                                               \n",
       "\n",
       "  Workplace. Topic:Does your workplace value the diversity of its employees?  \\\n",
       "0                                                Yes                           \n",
       "1                                                Yes                           \n",
       "2                                                Yes                           \n",
       "3                                                Yes                           \n",
       "4                                                Yes                           \n",
       "\n",
       "  Workplace. Topic:Would you recommend the Institute as an employer to others?  \\\n",
       "0                                                Yes                             \n",
       "1                                                Yes                             \n",
       "2                                                Yes                             \n",
       "3                                                Yes                             \n",
       "4                                                Yes                             \n",
       "\n",
       "  Gender. What is your Gender? CurrentAge. Current Age  \\\n",
       "0                       Female                  26  30   \n",
       "1                          NaN                     NaN   \n",
       "2                          NaN                     NaN   \n",
       "3                          NaN                     NaN   \n",
       "4                         Male                  41  45   \n",
       "\n",
       "  Employment Type. Employment Type Classification. Classification  \\\n",
       "0              Temporary Full-time            Administration (AO)   \n",
       "1                              NaN                            NaN   \n",
       "2                              NaN                            NaN   \n",
       "3                              NaN                            NaN   \n",
       "4              Permanent Full-time        Teacher (including LVT)   \n",
       "\n",
       "  LengthofServiceOverall. Overall Length of Service at Institute (in years)  \\\n",
       "0                                                1-2                          \n",
       "1                                                NaN                          \n",
       "2                                                NaN                          \n",
       "3                                                NaN                          \n",
       "4                                                3-4                          \n",
       "\n",
       "  LengthofServiceCurrent. Length of Service at current workplace (in years)  \n",
       "0                                                1-2                         \n",
       "1                                                NaN                         \n",
       "2                                                NaN                         \n",
       "3                                                NaN                         \n",
       "4                                                3-4                         \n",
       "\n",
       "[5 rows x 72 columns]"
      ]
     },
     "execution_count": 4,
     "metadata": {},
     "output_type": "execute_result"
    }
   ],
   "source": [
    "# exploring TAFE data set\n",
    "\n",
    "tafe_survey.info()\n",
    "tafe_survey.head()"
   ]
  },
  {
   "cell_type": "code",
   "execution_count": 5,
   "metadata": {
    "collapsed": false,
    "scrolled": true
   },
   "outputs": [
    {
     "name": "stdout",
     "output_type": "stream",
     "text": [
      "56 or older      162\n",
      "51-55             82\n",
      "41  45            80\n",
      "46  50            59\n",
      "31  35            52\n",
      "36  40            51\n",
      "26  30            50\n",
      "21  25            44\n",
      "20 or younger     16\n",
      "Name: CurrentAge. Current Age, dtype: int64\n",
      "Less than 1 year      177\n",
      "1-2                   113\n",
      "3-4                    86\n",
      "11-20                  82\n",
      "More than 20 years     54\n",
      "7-10                   44\n",
      "5-6                    40\n",
      "Name: LengthofServiceCurrent. Length of Service at current workplace (in years), dtype: int64\n",
      "Less than 1 year      147\n",
      "1-2                   102\n",
      "3-4                    96\n",
      "11-20                  89\n",
      "More than 20 years     71\n",
      "5-6                    48\n",
      "7-10                   43\n",
      "Name: LengthofServiceOverall. Overall Length of Service at Institute (in years), dtype: int64\n"
     ]
    }
   ],
   "source": [
    "print(tafe_survey[\"CurrentAge. Current Age\"].value_counts())\n",
    "print(tafe_survey.iloc[:,-1].value_counts())\n",
    "print(tafe_survey.iloc[:, -2].value_counts())"
   ]
  },
  {
   "cell_type": "markdown",
   "metadata": {},
   "source": [
    "For TAFE data det, we have 702 entires with 72 columns.\n",
    "- Dropped columns: for columns that have too many missing data, we should consider dropping them if not relevant to central questions.\n",
    "- Reformatting dtype: length of employment is given as categorical data, we should use this scale to reformat data of the DETE data set. We observed that there are only 9 age categories for the TAFE data set, and the keys follows a slightly different format, hence we would need to reformat this column so it is uniformed across data set.\n",
    "- Renaming columns: some columns across both data sets answer the same question, however, the columns are named differently. We should rename for comparative analysis.\n"
   ]
  },
  {
   "cell_type": "markdown",
   "metadata": {},
   "source": [
    "## Identify Missing Values and Drop Unecessary Columns"
   ]
  },
  {
   "cell_type": "code",
   "execution_count": 6,
   "metadata": {
    "collapsed": false,
    "scrolled": true
   },
   "outputs": [
    {
     "name": "stdout",
     "output_type": "stream",
     "text": [
      "<class 'pandas.core.frame.DataFrame'>\n",
      "RangeIndex: 822 entries, 0 to 821\n",
      "Data columns (total 35 columns):\n",
      "ID                                     822 non-null int64\n",
      "SeparationType                         822 non-null object\n",
      "Cease Date                             788 non-null object\n",
      "DETE Start Date                        749 non-null float64\n",
      "Role Start Date                        724 non-null float64\n",
      "Position                               817 non-null object\n",
      "Classification                         455 non-null object\n",
      "Region                                 717 non-null object\n",
      "Business Unit                          126 non-null object\n",
      "Employment Status                      817 non-null object\n",
      "Career move to public sector           822 non-null bool\n",
      "Career move to private sector          822 non-null bool\n",
      "Interpersonal conflicts                822 non-null bool\n",
      "Job dissatisfaction                    822 non-null bool\n",
      "Dissatisfaction with the department    822 non-null bool\n",
      "Physical work environment              822 non-null bool\n",
      "Lack of recognition                    822 non-null bool\n",
      "Lack of job security                   822 non-null bool\n",
      "Work location                          822 non-null bool\n",
      "Employment conditions                  822 non-null bool\n",
      "Maternity/family                       822 non-null bool\n",
      "Relocation                             822 non-null bool\n",
      "Study/Travel                           822 non-null bool\n",
      "Ill Health                             822 non-null bool\n",
      "Traumatic incident                     822 non-null bool\n",
      "Work life balance                      822 non-null bool\n",
      "Workload                               822 non-null bool\n",
      "None of the above                      822 non-null bool\n",
      "Gender                                 798 non-null object\n",
      "Age                                    811 non-null object\n",
      "Aboriginal                             16 non-null object\n",
      "Torres Strait                          3 non-null object\n",
      "South Sea                              7 non-null object\n",
      "Disability                             23 non-null object\n",
      "NESB                                   32 non-null object\n",
      "dtypes: bool(18), float64(2), int64(1), object(14)\n",
      "memory usage: 123.7+ KB\n",
      "<class 'pandas.core.frame.DataFrame'>\n",
      "RangeIndex: 702 entries, 0 to 701\n",
      "Data columns (total 23 columns):\n",
      "Record ID                                                                    702 non-null float64\n",
      "Institute                                                                    702 non-null object\n",
      "WorkArea                                                                     702 non-null object\n",
      "CESSATION YEAR                                                               695 non-null float64\n",
      "Reason for ceasing employment                                                701 non-null object\n",
      "Contributing Factors. Career Move - Public Sector                            437 non-null object\n",
      "Contributing Factors. Career Move - Private Sector                           437 non-null object\n",
      "Contributing Factors. Career Move - Self-employment                          437 non-null object\n",
      "Contributing Factors. Ill Health                                             437 non-null object\n",
      "Contributing Factors. Maternity/Family                                       437 non-null object\n",
      "Contributing Factors. Dissatisfaction                                        437 non-null object\n",
      "Contributing Factors. Job Dissatisfaction                                    437 non-null object\n",
      "Contributing Factors. Interpersonal Conflict                                 437 non-null object\n",
      "Contributing Factors. Study                                                  437 non-null object\n",
      "Contributing Factors. Travel                                                 437 non-null object\n",
      "Contributing Factors. Other                                                  437 non-null object\n",
      "Contributing Factors. NONE                                                   437 non-null object\n",
      "Gender. What is your Gender?                                                 596 non-null object\n",
      "CurrentAge. Current Age                                                      596 non-null object\n",
      "Employment Type. Employment Type                                             596 non-null object\n",
      "Classification. Classification                                               596 non-null object\n",
      "LengthofServiceOverall. Overall Length of Service at Institute (in years)    596 non-null object\n",
      "LengthofServiceCurrent. Length of Service at current workplace (in years)    596 non-null object\n",
      "dtypes: float64(2), object(21)\n",
      "memory usage: 126.2+ KB\n"
     ]
    }
   ],
   "source": [
    "# cleaning and reshaping data\n",
    "with open('dete_survey.csv', 'r') as file:\n",
    "    dete_survey = pd.read_csv(file, na_values='Not Stated') # specifying NA value\n",
    "    \n",
    "# drop columns\n",
    "dete_survey_updated = dete_survey.drop(dete_survey.columns[28:49], axis=1)\n",
    "tafe_survey_updated = tafe_survey.drop(tafe_survey.columns[17:66], axis=1)\n",
    "\n",
    "dete_survey_updated.info()\n",
    "tafe_survey_updated.info()"
   ]
  },
  {
   "cell_type": "markdown",
   "metadata": {},
   "source": [
    "Addressing some of the concerns raised during the preliminary data exploration, we specified the NA values of the DETE data set as \"Not Stated\", and dropped unnecessary columns from both data sets.\n",
    "\n",
    "Now DETE survey have 35 columns, whilst TAFE survey have 23."
   ]
  },
  {
   "cell_type": "markdown",
   "metadata": {},
   "source": [
    "## Clean Column Names"
   ]
  },
  {
   "cell_type": "code",
   "execution_count": 7,
   "metadata": {
    "collapsed": false
   },
   "outputs": [],
   "source": [
    "# replace spaces with underscores, change capitalization to lowercase, removing trailing whitespaces\n",
    "dete_survey_updated.columns = dete_survey_updated.columns.str.replace(' ', '_').str.lower().str.strip()\n",
    "\n",
    "# renaming TAFE columns to match DETE\n",
    "tafe_survey_updated.rename(columns={\"Record ID\": \"id\",\n",
    "                                   \"CESSATION YEAR\": \"cease_date\",\n",
    "                                   \"Reason for ceasing employment\": \"separationtype\",\n",
    "                                   \"Gender. What is your Gender?\": \"gender\",\n",
    "                                   \"CurrentAge. Current Age\": \"age\",\n",
    "                                   \"Employment Type. Employment Type\": \"employment_status\",\n",
    "                                   \"Classification. Classification\": \"position\",\n",
    "                                   \"LengthofServiceOverall. Overall Length of Service at Institute (in years)\": \"institute_service\",\n",
    "                                   \"LengthofServiceCurrent. Length of Service at current workplace (in years)\": \"role_service\"},\n",
    "                          inplace=True)"
   ]
  },
  {
   "cell_type": "code",
   "execution_count": 8,
   "metadata": {
    "collapsed": false
   },
   "outputs": [
    {
     "name": "stdout",
     "output_type": "stream",
     "text": [
      "   id                    separationtype cease_date  dete_start_date  \\\n",
      "0   1             Ill Health Retirement    08/2012           1984.0   \n",
      "1   2  Voluntary Early Retirement (VER)    08/2012              NaN   \n",
      "2   3  Voluntary Early Retirement (VER)    05/2012           2011.0   \n",
      "3   4         Resignation-Other reasons    05/2012           2005.0   \n",
      "4   5                    Age Retirement    05/2012           1970.0   \n",
      "\n",
      "   role_start_date                                      position  \\\n",
      "0           2004.0                                Public Servant   \n",
      "1              NaN                                Public Servant   \n",
      "2           2011.0                               Schools Officer   \n",
      "3           2006.0                                       Teacher   \n",
      "4           1989.0  Head of Curriculum/Head of Special Education   \n",
      "\n",
      "  classification              region                      business_unit  \\\n",
      "0        A01-A04      Central Office  Corporate Strategy and Peformance   \n",
      "1        AO5-AO7      Central Office  Corporate Strategy and Peformance   \n",
      "2            NaN      Central Office               Education Queensland   \n",
      "3        Primary  Central Queensland                                NaN   \n",
      "4            NaN          South East                                NaN   \n",
      "\n",
      "     employment_status  ...   work_life_balance  workload  none_of_the_above  \\\n",
      "0  Permanent Full-time  ...               False     False               True   \n",
      "1  Permanent Full-time  ...               False     False              False   \n",
      "2  Permanent Full-time  ...               False     False               True   \n",
      "3  Permanent Full-time  ...               False     False              False   \n",
      "4  Permanent Full-time  ...                True     False              False   \n",
      "\n",
      "   gender          age  aboriginal  torres_strait  south_sea  disability  nesb  \n",
      "0    Male        56-60         NaN            NaN        NaN         NaN   Yes  \n",
      "1    Male        56-60         NaN            NaN        NaN         NaN   NaN  \n",
      "2    Male  61 or older         NaN            NaN        NaN         NaN   NaN  \n",
      "3  Female        36-40         NaN            NaN        NaN         NaN   NaN  \n",
      "4  Female  61 or older         NaN            NaN        NaN         NaN   NaN  \n",
      "\n",
      "[5 rows x 35 columns]\n",
      "\n",
      "\n",
      "             id                              Institute  \\\n",
      "0  6.341330e+17  Southern Queensland Institute of TAFE   \n",
      "1  6.341337e+17            Mount Isa Institute of TAFE   \n",
      "2  6.341388e+17            Mount Isa Institute of TAFE   \n",
      "3  6.341399e+17            Mount Isa Institute of TAFE   \n",
      "4  6.341466e+17  Southern Queensland Institute of TAFE   \n",
      "\n",
      "                   WorkArea  cease_date    separationtype  \\\n",
      "0  Non-Delivery (corporate)      2010.0  Contract Expired   \n",
      "1  Non-Delivery (corporate)      2010.0        Retirement   \n",
      "2       Delivery (teaching)      2010.0        Retirement   \n",
      "3  Non-Delivery (corporate)      2010.0       Resignation   \n",
      "4       Delivery (teaching)      2010.0       Resignation   \n",
      "\n",
      "  Contributing Factors. Career Move - Public Sector   \\\n",
      "0                                                NaN   \n",
      "1                                                  -   \n",
      "2                                                  -   \n",
      "3                                                  -   \n",
      "4                                                  -   \n",
      "\n",
      "  Contributing Factors. Career Move - Private Sector   \\\n",
      "0                                                NaN    \n",
      "1                                                  -    \n",
      "2                                                  -    \n",
      "3                                                  -    \n",
      "4                       Career Move - Private Sector    \n",
      "\n",
      "  Contributing Factors. Career Move - Self-employment  \\\n",
      "0                                                NaN    \n",
      "1                                                  -    \n",
      "2                                                  -    \n",
      "3                                                  -    \n",
      "4                                                  -    \n",
      "\n",
      "  Contributing Factors. Ill Health Contributing Factors. Maternity/Family  \\\n",
      "0                              NaN                                    NaN   \n",
      "1                                -                                      -   \n",
      "2                                -                                      -   \n",
      "3                                -                                      -   \n",
      "4                                -                                      -   \n",
      "\n",
      "      ...      Contributing Factors. Study Contributing Factors. Travel  \\\n",
      "0     ...                              NaN                          NaN   \n",
      "1     ...                                -                       Travel   \n",
      "2     ...                                -                            -   \n",
      "3     ...                                -                       Travel   \n",
      "4     ...                                -                            -   \n",
      "\n",
      "  Contributing Factors. Other Contributing Factors. NONE  gender     age  \\\n",
      "0                         NaN                        NaN  Female  26  30   \n",
      "1                           -                          -     NaN     NaN   \n",
      "2                           -                       NONE     NaN     NaN   \n",
      "3                           -                          -     NaN     NaN   \n",
      "4                           -                          -    Male  41  45   \n",
      "\n",
      "     employment_status                 position institute_service role_service  \n",
      "0  Temporary Full-time      Administration (AO)               1-2          1-2  \n",
      "1                  NaN                      NaN               NaN          NaN  \n",
      "2                  NaN                      NaN               NaN          NaN  \n",
      "3                  NaN                      NaN               NaN          NaN  \n",
      "4  Permanent Full-time  Teacher (including LVT)               3-4          3-4  \n",
      "\n",
      "[5 rows x 23 columns]\n"
     ]
    }
   ],
   "source": [
    "# printing first 5 rows of datasets to check changes\n",
    "print(dete_survey_updated.head())\n",
    "print('\\n')\n",
    "print(tafe_survey_updated.head())"
   ]
  },
  {
   "cell_type": "markdown",
   "metadata": {},
   "source": [
    "Since we will try to join the two data sets for further analysis, we have to ensure that the column names are the same for both. Hence, we performed transformation on the column names to unify."
   ]
  },
  {
   "cell_type": "markdown",
   "metadata": {},
   "source": [
    "## Filter the Data"
   ]
  },
  {
   "cell_type": "code",
   "execution_count": 9,
   "metadata": {
    "collapsed": false
   },
   "outputs": [
    {
     "data": {
      "text/plain": [
       "Age Retirement                          285\n",
       "Resignation-Other reasons               150\n",
       "Resignation-Other employer               91\n",
       "Resignation-Move overseas/interstate     70\n",
       "Voluntary Early Retirement (VER)         67\n",
       "Ill Health Retirement                    61\n",
       "Other                                    49\n",
       "Contract Expired                         34\n",
       "Termination                              15\n",
       "Name: separationtype, dtype: int64"
      ]
     },
     "execution_count": 9,
     "metadata": {},
     "output_type": "execute_result"
    }
   ],
   "source": [
    "# filtering out data with 'separationtype' as resign\n",
    "dete_survey_updated['separationtype'].value_counts()"
   ]
  },
  {
   "cell_type": "code",
   "execution_count": 10,
   "metadata": {
    "collapsed": false
   },
   "outputs": [
    {
     "data": {
      "text/plain": [
       "Resignation                 340\n",
       "Contract Expired            127\n",
       "Retrenchment/ Redundancy    104\n",
       "Retirement                   82\n",
       "Transfer                     25\n",
       "Termination                  23\n",
       "Name: separationtype, dtype: int64"
      ]
     },
     "execution_count": 10,
     "metadata": {},
     "output_type": "execute_result"
    }
   ],
   "source": [
    "tafe_survey_updated['separationtype'].value_counts()"
   ]
  },
  {
   "cell_type": "code",
   "execution_count": 11,
   "metadata": {
    "collapsed": false
   },
   "outputs": [],
   "source": [
    "# selecting only data for survey respondents who have Resignation as separation type\n",
    "dete_resignations = dete_survey_updated[dete_survey_updated['separationtype'].str.contains(r'Resignation')].copy()\n",
    "tafe_resignations = tafe_survey_updated[tafe_survey_updated['separationtype'] == 'Resignation'].copy()"
   ]
  },
  {
   "cell_type": "markdown",
   "metadata": {},
   "source": [
    "We are interested in analysing the reasoning behind employees who resigned in this project, hence, we first understand the different response to column 'separationtype' and have filtered out only data with a separation type of resignation."
   ]
  },
  {
   "cell_type": "markdown",
   "metadata": {},
   "source": [
    "## Verify the Data"
   ]
  },
  {
   "cell_type": "code",
   "execution_count": 12,
   "metadata": {
    "collapsed": false
   },
   "outputs": [
    {
     "data": {
      "text/plain": [
       " 2013.0    146\n",
       " 2012.0    129\n",
       " 2014.0     22\n",
       "NaN         11\n",
       " 2010.0      2\n",
       " 2006.0      1\n",
       "Name: cease_date, dtype: int64"
      ]
     },
     "execution_count": 12,
     "metadata": {},
     "output_type": "execute_result"
    }
   ],
   "source": [
    "# checking data for obvious logical inconsistencies and removing\n",
    "dete_resignations['cease_date'].value_counts()\n",
    "# reformatting data from mm/yyyy to yyyy\n",
    "dete_resignations['cease_date'] = dete_resignations['cease_date'].str.split('/').str.get(-1).astype('float')\n",
    "dete_resignations['cease_date'].value_counts(dropna=False)"
   ]
  },
  {
   "cell_type": "code",
   "execution_count": 13,
   "metadata": {
    "collapsed": false,
    "scrolled": true
   },
   "outputs": [
    {
     "data": {
      "text/plain": [
       "2013.0    10\n",
       "2012.0    21\n",
       "2011.0    24\n",
       "2010.0    17\n",
       "2009.0    13\n",
       "2008.0    22\n",
       "2007.0    21\n",
       "2006.0    13\n",
       "2005.0    15\n",
       "2004.0    14\n",
       "2003.0     6\n",
       "2002.0     6\n",
       "2001.0     3\n",
       "2000.0     9\n",
       "1999.0     8\n",
       "1998.0     6\n",
       "1997.0     5\n",
       "1996.0     6\n",
       "1995.0     4\n",
       "1994.0     6\n",
       "1993.0     5\n",
       "1992.0     6\n",
       "1991.0     4\n",
       "1990.0     5\n",
       "1989.0     4\n",
       "1988.0     4\n",
       "1987.0     1\n",
       "1986.0     3\n",
       "1985.0     3\n",
       "1984.0     1\n",
       "1983.0     2\n",
       "1982.0     1\n",
       "1980.0     5\n",
       "1977.0     1\n",
       "1976.0     2\n",
       "1975.0     1\n",
       "1974.0     2\n",
       "1973.0     1\n",
       "1972.0     1\n",
       "1971.0     1\n",
       "1963.0     1\n",
       "Name: dete_start_date, dtype: int64"
      ]
     },
     "execution_count": 13,
     "metadata": {},
     "output_type": "execute_result"
    }
   ],
   "source": [
    "# checking that none of the start date is later than the latest cease date at 2014\n",
    "dete_resignations['dete_start_date'].value_counts().sort_index(ascending=False)"
   ]
  },
  {
   "cell_type": "code",
   "execution_count": 14,
   "metadata": {
    "collapsed": false
   },
   "outputs": [
    {
     "data": {
      "text/plain": [
       "2013.0     55\n",
       "2012.0     94\n",
       "2011.0    116\n",
       "2010.0     68\n",
       "2009.0      2\n",
       "Name: cease_date, dtype: int64"
      ]
     },
     "execution_count": 14,
     "metadata": {},
     "output_type": "execute_result"
    }
   ],
   "source": [
    "tafe_resignations['cease_date'].value_counts().sort_index(ascending=False)"
   ]
  },
  {
   "cell_type": "code",
   "execution_count": 15,
   "metadata": {
    "collapsed": false
   },
   "outputs": [
    {
     "data": {
      "text/plain": [
       "<matplotlib.axes._subplots.AxesSubplot at 0x7f2bd5500630>"
      ]
     },
     "execution_count": 15,
     "metadata": {},
     "output_type": "execute_result"
    },
    {
     "data": {
      "image/png": "[encoded data removed]",
      "text/plain": [
       "<matplotlib.figure.Figure at 0x7f2bd557bac8>"
      ]
     },
     "metadata": {},
     "output_type": "display_data"
    }
   ],
   "source": [
    "# magic command to show plots in Notebook\n",
    "%matplotlib inline\n",
    "import matplotlib.pyplot as plt\n",
    "\n",
    "dete_resignations.boxplot(column=['dete_start_date', 'cease_date'])"
   ]
  },
  {
   "cell_type": "code",
   "execution_count": 16,
   "metadata": {
    "collapsed": false
   },
   "outputs": [
    {
     "data": {
      "text/plain": [
       "<matplotlib.axes._subplots.AxesSubplot at 0x7f2bd4f70c18>"
      ]
     },
     "execution_count": 16,
     "metadata": {},
     "output_type": "execute_result"
    },
    {
     "data": {
      "image/png": "[encoded data removed]",
      "text/plain": [
       "<matplotlib.figure.Figure at 0x7f2bd4f7bbe0>"
      ]
     },
     "metadata": {},
     "output_type": "display_data"
    }
   ],
   "source": [
    "tafe_resignations.boxplot(column='cease_date')"
   ]
  },
  {
   "cell_type": "markdown",
   "metadata": {},
   "source": [
    "We have used boxplots to observe the spread of 'cease_date' for both data sets, as well as the 'start_date' for DETE. From our exploration of both data sets, we do not see any major issues with the data values. Hence, we have opt to keep all of the data for analysis."
   ]
  },
  {
   "cell_type": "markdown",
   "metadata": {},
   "source": [
    "## Create a New Column"
   ]
  },
  {
   "cell_type": "code",
   "execution_count": 17,
   "metadata": {
    "collapsed": true
   },
   "outputs": [],
   "source": [
    "# create 'institute_service' for dete data set\n",
    "dete_resignations['institute_service'] = dete_resignations['cease_date'] - dete_resignations['dete_start_date']"
   ]
  },
  {
   "cell_type": "markdown",
   "metadata": {},
   "source": [
    "As one of the question of our projects require us to find possible relationship between length of employment at the two institution against reasoning for resignation. Hence, we will need a column that provides this data. We find that TAFE data set already have this information stored under the column 'institute_service', and so we need to create a corresponding column for DETE data.\n",
    "\n",
    "We find that we can calculate the length of service by subtracting an employee's start date from their end date to find the length of their employment, thus we create this new column in the DETE data set."
   ]
  },
  {
   "cell_type": "markdown",
   "metadata": {},
   "source": [
    "## Identify Dissatisfied Employees"
   ]
  },
  {
   "cell_type": "code",
   "execution_count": 18,
   "metadata": {
    "collapsed": false
   },
   "outputs": [
    {
     "name": "stdout",
     "output_type": "stream",
     "text": [
      "-                                         277\n",
      "Contributing Factors. Dissatisfaction      55\n",
      "NaN                                         8\n",
      "Name: Contributing Factors. Dissatisfaction, dtype: int64\n",
      "-                      270\n",
      "Job Dissatisfaction     62\n",
      "NaN                      8\n",
      "Name: Contributing Factors. Job Dissatisfaction, dtype: int64\n"
     ]
    }
   ],
   "source": [
    "# understanding response values in TAFE and convert to boolean values when necessary\n",
    "print(tafe_resignations['Contributing Factors. Dissatisfaction'].value_counts(dropna=False)) #set dropna to False to see NaN values\n",
    "print(tafe_resignations['Contributing Factors. Job Dissatisfaction'].value_counts(dropna=False))"
   ]
  },
  {
   "cell_type": "code",
   "execution_count": 19,
   "metadata": {
    "collapsed": false
   },
   "outputs": [
    {
     "data": {
      "text/html": [
       "<div>\n",
       "<style scoped>\n",
       "    .dataframe tbody tr th:only-of-type {\n",
       "        vertical-align: middle;\n",
       "    }\n",
       "\n",
       "    .dataframe tbody tr th {\n",
       "        vertical-align: top;\n",
       "    }\n",
       "\n",
       "    .dataframe thead th {\n",
       "        text-align: right;\n",
       "    }\n",
       "</style>\n",
       "<table border=\"1\" class=\"dataframe\">\n",
       "  <thead>\n",
       "    <tr style=\"text-align: right;\">\n",
       "      <th></th>\n",
       "      <th>Contributing Factors. Dissatisfaction</th>\n",
       "      <th>Contributing Factors. Job Dissatisfaction</th>\n",
       "    </tr>\n",
       "  </thead>\n",
       "  <tbody>\n",
       "    <tr>\n",
       "      <th>3</th>\n",
       "      <td>False</td>\n",
       "      <td>False</td>\n",
       "    </tr>\n",
       "    <tr>\n",
       "      <th>4</th>\n",
       "      <td>False</td>\n",
       "      <td>False</td>\n",
       "    </tr>\n",
       "    <tr>\n",
       "      <th>5</th>\n",
       "      <td>False</td>\n",
       "      <td>False</td>\n",
       "    </tr>\n",
       "    <tr>\n",
       "      <th>6</th>\n",
       "      <td>False</td>\n",
       "      <td>False</td>\n",
       "    </tr>\n",
       "    <tr>\n",
       "      <th>7</th>\n",
       "      <td>False</td>\n",
       "      <td>False</td>\n",
       "    </tr>\n",
       "    <tr>\n",
       "      <th>8</th>\n",
       "      <td>False</td>\n",
       "      <td>False</td>\n",
       "    </tr>\n",
       "    <tr>\n",
       "      <th>9</th>\n",
       "      <td>False</td>\n",
       "      <td>False</td>\n",
       "    </tr>\n",
       "    <tr>\n",
       "      <th>10</th>\n",
       "      <td>False</td>\n",
       "      <td>False</td>\n",
       "    </tr>\n",
       "    <tr>\n",
       "      <th>13</th>\n",
       "      <td>False</td>\n",
       "      <td>False</td>\n",
       "    </tr>\n",
       "    <tr>\n",
       "      <th>14</th>\n",
       "      <td>True</td>\n",
       "      <td>True</td>\n",
       "    </tr>\n",
       "    <tr>\n",
       "      <th>15</th>\n",
       "      <td>False</td>\n",
       "      <td>False</td>\n",
       "    </tr>\n",
       "    <tr>\n",
       "      <th>16</th>\n",
       "      <td>NaN</td>\n",
       "      <td>NaN</td>\n",
       "    </tr>\n",
       "    <tr>\n",
       "      <th>17</th>\n",
       "      <td>False</td>\n",
       "      <td>True</td>\n",
       "    </tr>\n",
       "    <tr>\n",
       "      <th>18</th>\n",
       "      <td>NaN</td>\n",
       "      <td>NaN</td>\n",
       "    </tr>\n",
       "    <tr>\n",
       "      <th>19</th>\n",
       "      <td>False</td>\n",
       "      <td>False</td>\n",
       "    </tr>\n",
       "    <tr>\n",
       "      <th>20</th>\n",
       "      <td>True</td>\n",
       "      <td>True</td>\n",
       "    </tr>\n",
       "    <tr>\n",
       "      <th>21</th>\n",
       "      <td>False</td>\n",
       "      <td>False</td>\n",
       "    </tr>\n",
       "    <tr>\n",
       "      <th>22</th>\n",
       "      <td>False</td>\n",
       "      <td>False</td>\n",
       "    </tr>\n",
       "    <tr>\n",
       "      <th>23</th>\n",
       "      <td>False</td>\n",
       "      <td>False</td>\n",
       "    </tr>\n",
       "    <tr>\n",
       "      <th>24</th>\n",
       "      <td>False</td>\n",
       "      <td>False</td>\n",
       "    </tr>\n",
       "    <tr>\n",
       "      <th>26</th>\n",
       "      <td>True</td>\n",
       "      <td>True</td>\n",
       "    </tr>\n",
       "    <tr>\n",
       "      <th>27</th>\n",
       "      <td>False</td>\n",
       "      <td>False</td>\n",
       "    </tr>\n",
       "    <tr>\n",
       "      <th>29</th>\n",
       "      <td>False</td>\n",
       "      <td>False</td>\n",
       "    </tr>\n",
       "    <tr>\n",
       "      <th>32</th>\n",
       "      <td>False</td>\n",
       "      <td>False</td>\n",
       "    </tr>\n",
       "    <tr>\n",
       "      <th>36</th>\n",
       "      <td>False</td>\n",
       "      <td>False</td>\n",
       "    </tr>\n",
       "    <tr>\n",
       "      <th>37</th>\n",
       "      <td>False</td>\n",
       "      <td>False</td>\n",
       "    </tr>\n",
       "    <tr>\n",
       "      <th>39</th>\n",
       "      <td>False</td>\n",
       "      <td>False</td>\n",
       "    </tr>\n",
       "    <tr>\n",
       "      <th>40</th>\n",
       "      <td>True</td>\n",
       "      <td>False</td>\n",
       "    </tr>\n",
       "    <tr>\n",
       "      <th>41</th>\n",
       "      <td>False</td>\n",
       "      <td>False</td>\n",
       "    </tr>\n",
       "    <tr>\n",
       "      <th>42</th>\n",
       "      <td>False</td>\n",
       "      <td>False</td>\n",
       "    </tr>\n",
       "    <tr>\n",
       "      <th>...</th>\n",
       "      <td>...</td>\n",
       "      <td>...</td>\n",
       "    </tr>\n",
       "    <tr>\n",
       "      <th>659</th>\n",
       "      <td>False</td>\n",
       "      <td>False</td>\n",
       "    </tr>\n",
       "    <tr>\n",
       "      <th>660</th>\n",
       "      <td>False</td>\n",
       "      <td>False</td>\n",
       "    </tr>\n",
       "    <tr>\n",
       "      <th>661</th>\n",
       "      <td>False</td>\n",
       "      <td>True</td>\n",
       "    </tr>\n",
       "    <tr>\n",
       "      <th>665</th>\n",
       "      <td>False</td>\n",
       "      <td>False</td>\n",
       "    </tr>\n",
       "    <tr>\n",
       "      <th>666</th>\n",
       "      <td>False</td>\n",
       "      <td>False</td>\n",
       "    </tr>\n",
       "    <tr>\n",
       "      <th>669</th>\n",
       "      <td>False</td>\n",
       "      <td>False</td>\n",
       "    </tr>\n",
       "    <tr>\n",
       "      <th>670</th>\n",
       "      <td>NaN</td>\n",
       "      <td>NaN</td>\n",
       "    </tr>\n",
       "    <tr>\n",
       "      <th>671</th>\n",
       "      <td>False</td>\n",
       "      <td>True</td>\n",
       "    </tr>\n",
       "    <tr>\n",
       "      <th>675</th>\n",
       "      <td>True</td>\n",
       "      <td>True</td>\n",
       "    </tr>\n",
       "    <tr>\n",
       "      <th>676</th>\n",
       "      <td>False</td>\n",
       "      <td>False</td>\n",
       "    </tr>\n",
       "    <tr>\n",
       "      <th>677</th>\n",
       "      <td>False</td>\n",
       "      <td>False</td>\n",
       "    </tr>\n",
       "    <tr>\n",
       "      <th>678</th>\n",
       "      <td>False</td>\n",
       "      <td>False</td>\n",
       "    </tr>\n",
       "    <tr>\n",
       "      <th>679</th>\n",
       "      <td>False</td>\n",
       "      <td>False</td>\n",
       "    </tr>\n",
       "    <tr>\n",
       "      <th>681</th>\n",
       "      <td>False</td>\n",
       "      <td>False</td>\n",
       "    </tr>\n",
       "    <tr>\n",
       "      <th>682</th>\n",
       "      <td>False</td>\n",
       "      <td>False</td>\n",
       "    </tr>\n",
       "    <tr>\n",
       "      <th>683</th>\n",
       "      <td>False</td>\n",
       "      <td>False</td>\n",
       "    </tr>\n",
       "    <tr>\n",
       "      <th>684</th>\n",
       "      <td>False</td>\n",
       "      <td>False</td>\n",
       "    </tr>\n",
       "    <tr>\n",
       "      <th>685</th>\n",
       "      <td>True</td>\n",
       "      <td>True</td>\n",
       "    </tr>\n",
       "    <tr>\n",
       "      <th>686</th>\n",
       "      <td>False</td>\n",
       "      <td>False</td>\n",
       "    </tr>\n",
       "    <tr>\n",
       "      <th>688</th>\n",
       "      <td>False</td>\n",
       "      <td>False</td>\n",
       "    </tr>\n",
       "    <tr>\n",
       "      <th>689</th>\n",
       "      <td>False</td>\n",
       "      <td>True</td>\n",
       "    </tr>\n",
       "    <tr>\n",
       "      <th>690</th>\n",
       "      <td>False</td>\n",
       "      <td>False</td>\n",
       "    </tr>\n",
       "    <tr>\n",
       "      <th>691</th>\n",
       "      <td>False</td>\n",
       "      <td>False</td>\n",
       "    </tr>\n",
       "    <tr>\n",
       "      <th>693</th>\n",
       "      <td>False</td>\n",
       "      <td>False</td>\n",
       "    </tr>\n",
       "    <tr>\n",
       "      <th>694</th>\n",
       "      <td>False</td>\n",
       "      <td>False</td>\n",
       "    </tr>\n",
       "    <tr>\n",
       "      <th>696</th>\n",
       "      <td>False</td>\n",
       "      <td>False</td>\n",
       "    </tr>\n",
       "    <tr>\n",
       "      <th>697</th>\n",
       "      <td>False</td>\n",
       "      <td>False</td>\n",
       "    </tr>\n",
       "    <tr>\n",
       "      <th>698</th>\n",
       "      <td>False</td>\n",
       "      <td>False</td>\n",
       "    </tr>\n",
       "    <tr>\n",
       "      <th>699</th>\n",
       "      <td>False</td>\n",
       "      <td>False</td>\n",
       "    </tr>\n",
       "    <tr>\n",
       "      <th>701</th>\n",
       "      <td>False</td>\n",
       "      <td>False</td>\n",
       "    </tr>\n",
       "  </tbody>\n",
       "</table>\n",
       "<p>340 rows × 2 columns</p>\n",
       "</div>"
      ],
      "text/plain": [
       "    Contributing Factors. Dissatisfaction  \\\n",
       "3                                   False   \n",
       "4                                   False   \n",
       "5                                   False   \n",
       "6                                   False   \n",
       "7                                   False   \n",
       "8                                   False   \n",
       "9                                   False   \n",
       "10                                  False   \n",
       "13                                  False   \n",
       "14                                   True   \n",
       "15                                  False   \n",
       "16                                    NaN   \n",
       "17                                  False   \n",
       "18                                    NaN   \n",
       "19                                  False   \n",
       "20                                   True   \n",
       "21                                  False   \n",
       "22                                  False   \n",
       "23                                  False   \n",
       "24                                  False   \n",
       "26                                   True   \n",
       "27                                  False   \n",
       "29                                  False   \n",
       "32                                  False   \n",
       "36                                  False   \n",
       "37                                  False   \n",
       "39                                  False   \n",
       "40                                   True   \n",
       "41                                  False   \n",
       "42                                  False   \n",
       "..                                    ...   \n",
       "659                                 False   \n",
       "660                                 False   \n",
       "661                                 False   \n",
       "665                                 False   \n",
       "666                                 False   \n",
       "669                                 False   \n",
       "670                                   NaN   \n",
       "671                                 False   \n",
       "675                                  True   \n",
       "676                                 False   \n",
       "677                                 False   \n",
       "678                                 False   \n",
       "679                                 False   \n",
       "681                                 False   \n",
       "682                                 False   \n",
       "683                                 False   \n",
       "684                                 False   \n",
       "685                                  True   \n",
       "686                                 False   \n",
       "688                                 False   \n",
       "689                                 False   \n",
       "690                                 False   \n",
       "691                                 False   \n",
       "693                                 False   \n",
       "694                                 False   \n",
       "696                                 False   \n",
       "697                                 False   \n",
       "698                                 False   \n",
       "699                                 False   \n",
       "701                                 False   \n",
       "\n",
       "    Contributing Factors. Job Dissatisfaction  \n",
       "3                                       False  \n",
       "4                                       False  \n",
       "5                                       False  \n",
       "6                                       False  \n",
       "7                                       False  \n",
       "8                                       False  \n",
       "9                                       False  \n",
       "10                                      False  \n",
       "13                                      False  \n",
       "14                                       True  \n",
       "15                                      False  \n",
       "16                                        NaN  \n",
       "17                                       True  \n",
       "18                                        NaN  \n",
       "19                                      False  \n",
       "20                                       True  \n",
       "21                                      False  \n",
       "22                                      False  \n",
       "23                                      False  \n",
       "24                                      False  \n",
       "26                                       True  \n",
       "27                                      False  \n",
       "29                                      False  \n",
       "32                                      False  \n",
       "36                                      False  \n",
       "37                                      False  \n",
       "39                                      False  \n",
       "40                                      False  \n",
       "41                                      False  \n",
       "42                                      False  \n",
       "..                                        ...  \n",
       "659                                     False  \n",
       "660                                     False  \n",
       "661                                      True  \n",
       "665                                     False  \n",
       "666                                     False  \n",
       "669                                     False  \n",
       "670                                       NaN  \n",
       "671                                      True  \n",
       "675                                      True  \n",
       "676                                     False  \n",
       "677                                     False  \n",
       "678                                     False  \n",
       "679                                     False  \n",
       "681                                     False  \n",
       "682                                     False  \n",
       "683                                     False  \n",
       "684                                     False  \n",
       "685                                      True  \n",
       "686                                     False  \n",
       "688                                     False  \n",
       "689                                      True  \n",
       "690                                     False  \n",
       "691                                     False  \n",
       "693                                     False  \n",
       "694                                     False  \n",
       "696                                     False  \n",
       "697                                     False  \n",
       "698                                     False  \n",
       "699                                     False  \n",
       "701                                     False  \n",
       "\n",
       "[340 rows x 2 columns]"
      ]
     },
     "execution_count": 19,
     "metadata": {},
     "output_type": "execute_result"
    }
   ],
   "source": [
    "# defining function to convert columns to boolean values\n",
    "def update_vals(val):\n",
    "    if pd.isnull(val) == True:\n",
    "        return np.nan\n",
    "    elif val == '-':\n",
    "        return False\n",
    "    else:\n",
    "        return True\n",
    "    \n",
    "# applying function to convert\n",
    "tafe_bool = tafe_resignations[['Contributing Factors. Dissatisfaction', 'Contributing Factors. Job Dissatisfaction']].applymap(update_vals)\n",
    "tafe_bool"
   ]
  },
  {
   "cell_type": "code",
   "execution_count": 20,
   "metadata": {
    "collapsed": false
   },
   "outputs": [],
   "source": [
    "# creating 'dissatisfied' column for TAFE data set\n",
    "tafe_resignations['dissatisfied'] = tafe_bool.any(axis=1, skipna=False)"
   ]
  },
  {
   "cell_type": "code",
   "execution_count": 21,
   "metadata": {
    "collapsed": true
   },
   "outputs": [],
   "source": [
    "# creating 'dissatisfied' column for DETE data set\n",
    "dete_resignations['dissatisfied'] = dete_resignations[['job_dissatisfaction',\n",
    "                               'dissatisfaction_with_the_department',\n",
    "                               'physical_work_environment',\n",
    "                               'lack_of_recognition',\n",
    "                               'lack_of_job_security',\n",
    "                               'work_location',\n",
    "                               'employment_conditions',\n",
    "                               'work_life_balance',\n",
    "                               'workload']].any(axis=1, skipna=False)"
   ]
  },
  {
   "cell_type": "code",
   "execution_count": 22,
   "metadata": {
    "collapsed": true
   },
   "outputs": [],
   "source": [
    "# assigning results to new data sets\n",
    "dete_resignations_up = dete_resignations.copy()\n",
    "tafe_resignations_up = tafe_resignations.copy()"
   ]
  },
  {
   "cell_type": "markdown",
   "metadata": {},
   "source": [
    "We have created a new column that returns a boolean value after taking into account of all survey questions that addresses whether if an employee is dissatisfied upon resignation. If any of the dissatisfaction question has been answered true, then we mark the new column as true; it is only if the employee had answered false to all of the related questions, then will we mark the column false.\n",
    "\n",
    "To achieve this, we had to update columns in TAFE data set that were not entered as boolean values previously, and we have chosen to keep NaN values as is."
   ]
  },
  {
   "cell_type": "markdown",
   "metadata": {},
   "source": [
    "## Combine the Data"
   ]
  },
  {
   "cell_type": "code",
   "execution_count": 23,
   "metadata": {
    "collapsed": false
   },
   "outputs": [],
   "source": [
    "# prior to combining data sets, add institution identification column\n",
    "dete_resignations_up['institution'] = \"DETE\"\n",
    "tafe_resignations_up['institution'] = \"TAFE\""
   ]
  },
  {
   "cell_type": "code",
   "execution_count": 24,
   "metadata": {
    "collapsed": false
   },
   "outputs": [
    {
     "data": {
      "text/plain": [
       "torres_strait                                            0\n",
       "south_sea                                                3\n",
       "aboriginal                                               7\n",
       "disability                                               8\n",
       "nesb                                                     9\n",
       "business_unit                                           32\n",
       "classification                                         161\n",
       "region                                                 265\n",
       "role_start_date                                        271\n",
       "dete_start_date                                        283\n",
       "role_service                                           290\n",
       "career_move_to_public_sector                           311\n",
       "employment_conditions                                  311\n",
       "work_location                                          311\n",
       "lack_of_job_security                                   311\n",
       "job_dissatisfaction                                    311\n",
       "dissatisfaction_with_the_department                    311\n",
       "workload                                               311\n",
       "lack_of_recognition                                    311\n",
       "interpersonal_conflicts                                311\n",
       "maternity/family                                       311\n",
       "none_of_the_above                                      311\n",
       "physical_work_environment                              311\n",
       "relocation                                             311\n",
       "study/travel                                           311\n",
       "traumatic_incident                                     311\n",
       "work_life_balance                                      311\n",
       "career_move_to_private_sector                          311\n",
       "ill_health                                             311\n",
       "Contributing Factors. Career Move - Private Sector     332\n",
       "Contributing Factors. Other                            332\n",
       "Contributing Factors. Career Move - Public Sector      332\n",
       "Contributing Factors. Career Move - Self-employment    332\n",
       "Contributing Factors. Dissatisfaction                  332\n",
       "Contributing Factors. Ill Health                       332\n",
       "Contributing Factors. Interpersonal Conflict           332\n",
       "Contributing Factors. Travel                           332\n",
       "Contributing Factors. Study                            332\n",
       "Contributing Factors. Job Dissatisfaction              332\n",
       "Contributing Factors. Maternity/Family                 332\n",
       "Contributing Factors. NONE                             332\n",
       "WorkArea                                               340\n",
       "Institute                                              340\n",
       "institute_service                                      563\n",
       "gender                                                 592\n",
       "age                                                    596\n",
       "employment_status                                      597\n",
       "position                                               598\n",
       "cease_date                                             635\n",
       "dissatisfied                                           643\n",
       "separationtype                                         651\n",
       "institution                                            651\n",
       "id                                                     651\n",
       "dtype: int64"
      ]
     },
     "execution_count": 24,
     "metadata": {},
     "output_type": "execute_result"
    }
   ],
   "source": [
    "# combine data sets\n",
    "combined = pd.concat([dete_resignations_up, tafe_resignations_up], axis=0)\n",
    "# verifying number of non null values in each column\n",
    "combined.notnull().sum().sort_values()"
   ]
  },
  {
   "cell_type": "code",
   "execution_count": 25,
   "metadata": {
    "collapsed": false
   },
   "outputs": [
    {
     "data": {
      "text/plain": [
       "Index(['age', 'cease_date', 'dissatisfied', 'employment_status', 'gender',\n",
       "       'id', 'institute_service', 'institution', 'position', 'separationtype'],\n",
       "      dtype='object')"
      ]
     },
     "execution_count": 25,
     "metadata": {},
     "output_type": "execute_result"
    }
   ],
   "source": [
    "# dropping columns not necessary for further analysis\n",
    "combined_updated = combined.dropna(axis=1, thresh=500)\n",
    "combined_updated.columns"
   ]
  },
  {
   "cell_type": "markdown",
   "metadata": {},
   "source": [
    "We have merged the two data sets vertically and decided to set 500 non-null values as our threshold and dropped all columns with less than the threshold."
   ]
  },
  {
   "cell_type": "markdown",
   "metadata": {},
   "source": [
    "## Clean the Service Column"
   ]
  },
  {
   "cell_type": "code",
   "execution_count": 26,
   "metadata": {
    "collapsed": false
   },
   "outputs": [
    {
     "data": {
      "text/plain": [
       "nan                   88\n",
       "Less than 1 year      73\n",
       "1-2                   64\n",
       "3-4                   63\n",
       "5-6                   33\n",
       "11-20                 26\n",
       "5.0                   23\n",
       "1.0                   22\n",
       "7-10                  21\n",
       "3.0                   20\n",
       "0.0                   20\n",
       "6.0                   17\n",
       "4.0                   16\n",
       "9.0                   14\n",
       "2.0                   14\n",
       "7.0                   13\n",
       "More than 20 years    10\n",
       "8.0                    8\n",
       "13.0                   8\n",
       "20.0                   7\n",
       "15.0                   7\n",
       "17.0                   6\n",
       "12.0                   6\n",
       "10.0                   6\n",
       "22.0                   6\n",
       "14.0                   6\n",
       "18.0                   5\n",
       "16.0                   5\n",
       "23.0                   4\n",
       "24.0                   4\n",
       "11.0                   4\n",
       "39.0                   3\n",
       "32.0                   3\n",
       "19.0                   3\n",
       "21.0                   3\n",
       "30.0                   2\n",
       "25.0                   2\n",
       "26.0                   2\n",
       "28.0                   2\n",
       "36.0                   2\n",
       "31.0                   1\n",
       "33.0                   1\n",
       "34.0                   1\n",
       "29.0                   1\n",
       "35.0                   1\n",
       "38.0                   1\n",
       "27.0                   1\n",
       "41.0                   1\n",
       "42.0                   1\n",
       "49.0                   1\n",
       "Name: institute_service, dtype: int64"
      ]
     },
     "execution_count": 26,
     "metadata": {},
     "output_type": "execute_result"
    }
   ],
   "source": [
    "# understanding column values and converting into string dtype\n",
    "combined_updated['institute_service'].astype('str').value_counts(dropna=False)"
   ]
  },
  {
   "cell_type": "code",
   "execution_count": 27,
   "metadata": {
    "collapsed": false
   },
   "outputs": [
    {
     "name": "stderr",
     "output_type": "stream",
     "text": [
      "/dataquest/system/env/python3/lib/python3.4/site-packages/ipykernel/__main__.py:2: FutureWarning: currently extract(expand=None) means expand=False (return Index/Series/DataFrame) but in a future version of pandas this will be changed to expand=True (return DataFrame)\n",
      "  from ipykernel import kernelapp as app\n",
      "/dataquest/system/env/python3/lib/python3.4/site-packages/ipykernel/__main__.py:2: SettingWithCopyWarning: \n",
      "A value is trying to be set on a copy of a slice from a DataFrame.\n",
      "Try using .loc[row_indexer,col_indexer] = value instead\n",
      "\n",
      "See the caveats in the documentation: http://pandas.pydata.org/pandas-docs/stable/indexing.html#indexing-view-versus-copy\n",
      "  from ipykernel import kernelapp as app\n",
      "/dataquest/system/env/python3/lib/python3.4/site-packages/ipykernel/__main__.py:3: SettingWithCopyWarning: \n",
      "A value is trying to be set on a copy of a slice from a DataFrame.\n",
      "Try using .loc[row_indexer,col_indexer] = value instead\n",
      "\n",
      "See the caveats in the documentation: http://pandas.pydata.org/pandas-docs/stable/indexing.html#indexing-view-versus-copy\n",
      "  app.launch_new_instance()\n"
     ]
    }
   ],
   "source": [
    "# extracting the digits and converting values into float dtype\n",
    "combined_updated['institute_service_up'] = combined_updated['institute_service'].astype('str').str.extract(r'(\\d+)')\n",
    "combined_updated['institute_service_up'] = combined_updated['institute_service_up'].astype('float')"
   ]
  },
  {
   "cell_type": "code",
   "execution_count": 28,
   "metadata": {
    "collapsed": false
   },
   "outputs": [
    {
     "data": {
      "text/plain": [
       "1.0     159\n",
       "3.0      83\n",
       "5.0      56\n",
       "7.0      34\n",
       "11.0     30\n",
       "0.0      20\n",
       "20.0     17\n",
       "6.0      17\n",
       "4.0      16\n",
       "9.0      14\n",
       "2.0      14\n",
       "13.0      8\n",
       "8.0       8\n",
       "15.0      7\n",
       "17.0      6\n",
       "10.0      6\n",
       "12.0      6\n",
       "14.0      6\n",
       "22.0      6\n",
       "16.0      5\n",
       "18.0      5\n",
       "24.0      4\n",
       "23.0      4\n",
       "39.0      3\n",
       "19.0      3\n",
       "21.0      3\n",
       "32.0      3\n",
       "28.0      2\n",
       "36.0      2\n",
       "25.0      2\n",
       "30.0      2\n",
       "26.0      2\n",
       "29.0      1\n",
       "38.0      1\n",
       "42.0      1\n",
       "27.0      1\n",
       "41.0      1\n",
       "35.0      1\n",
       "49.0      1\n",
       "34.0      1\n",
       "33.0      1\n",
       "31.0      1\n",
       "Name: institute_service_up, dtype: int64"
      ]
     },
     "execution_count": 28,
     "metadata": {},
     "output_type": "execute_result"
    }
   ],
   "source": [
    "# since we observed a SettingWithCopyWarning, we will run the column to verify before moving on\n",
    "combined_updated['institute_service_up'].value_counts()"
   ]
  },
  {
   "cell_type": "code",
   "execution_count": 29,
   "metadata": {
    "collapsed": true
   },
   "outputs": [],
   "source": [
    "# categorising 'institute_service' column to fewer bins\n",
    "def service_mod(val):\n",
    "    if val < 3:\n",
    "        return 'New'\n",
    "    elif val >= 3 and val <= 6:\n",
    "        return 'Experienced'\n",
    "    elif val >=7 and val <= 10:\n",
    "        return 'Established'\n",
    "    elif pd.isnull(val):\n",
    "        return np.nan\n",
    "    else:\n",
    "        return 'Veteran'"
   ]
  },
  {
   "cell_type": "code",
   "execution_count": 30,
   "metadata": {
    "collapsed": false
   },
   "outputs": [
    {
     "name": "stderr",
     "output_type": "stream",
     "text": [
      "/dataquest/system/env/python3/lib/python3.4/site-packages/ipykernel/__main__.py:2: SettingWithCopyWarning: \n",
      "A value is trying to be set on a copy of a slice from a DataFrame.\n",
      "Try using .loc[row_indexer,col_indexer] = value instead\n",
      "\n",
      "See the caveats in the documentation: http://pandas.pydata.org/pandas-docs/stable/indexing.html#indexing-view-versus-copy\n",
      "  from ipykernel import kernelapp as app\n"
     ]
    }
   ],
   "source": [
    "# applying function to column\n",
    "combined_updated['service_cat'] = combined_updated['institute_service_up'].apply(service_mod)"
   ]
  },
  {
   "cell_type": "code",
   "execution_count": 31,
   "metadata": {
    "collapsed": false
   },
   "outputs": [
    {
     "data": {
      "text/plain": [
       "New            193\n",
       "Experienced    172\n",
       "Veteran        136\n",
       "NaN             88\n",
       "Established     62\n",
       "Name: service_cat, dtype: int64"
      ]
     },
     "execution_count": 31,
     "metadata": {},
     "output_type": "execute_result"
    }
   ],
   "source": [
    "# since we received another SettingWithCopyWarning, let's verify the modifications before moving on\n",
    "combined_updated['service_cat'].value_counts(dropna=False)"
   ]
  },
  {
   "cell_type": "markdown",
   "metadata": {},
   "source": [
    "For easier data analysis, we have chosen to recategorise the data in the institute_service column. We first extracted the numeric data provided, then categorised the data in to four groups with definitions as follows:\n",
    "\n",
    "- 'New': Less than 3 years\n",
    "- 'Experienced': 3-6 years\n",
    "- 'Established': 7-10 years\n",
    "- 'Veteran': 11 or more years\n",
    "\n",
    "We came across the SettingWithCopyWarning quite often during this section of the project becasuse the combined data set was created with copies of the two original sets. We handled the warning by verifying data post transformation to ensure that we have achieved the result desired. Further readings for this warning could be found [here](https://www.dataquest.io/blog/settingwithcopywarning/)."
   ]
  },
  {
   "cell_type": "markdown",
   "metadata": {},
   "source": [
    "## Performing Initial Analysis"
   ]
  },
  {
   "cell_type": "code",
   "execution_count": 32,
   "metadata": {
    "collapsed": false
   },
   "outputs": [
    {
     "data": {
      "text/plain": [
       "False    403\n",
       "True     240\n",
       "NaN        8\n",
       "Name: dissatisfied, dtype: int64"
      ]
     },
     "execution_count": 32,
     "metadata": {},
     "output_type": "execute_result"
    }
   ],
   "source": [
    "# obseriving values in 'dissatisfied' column\n",
    "combined_updated['dissatisfied'].value_counts(dropna=False)"
   ]
  },
  {
   "cell_type": "code",
   "execution_count": 33,
   "metadata": {
    "collapsed": false
   },
   "outputs": [
    {
     "name": "stderr",
     "output_type": "stream",
     "text": [
      "/dataquest/system/env/python3/lib/python3.4/site-packages/pandas/core/generic.py:4355: SettingWithCopyWarning: \n",
      "A value is trying to be set on a copy of a slice from a DataFrame\n",
      "\n",
      "See the caveats in the documentation: http://pandas.pydata.org/pandas-docs/stable/indexing.html#indexing-view-versus-copy\n",
      "  self._update_inplace(new_data)\n"
     ]
    }
   ],
   "source": [
    "# fill null values with mode\n",
    "combined_updated['dissatisfied'].fillna(value=False, inplace=True)"
   ]
  },
  {
   "cell_type": "code",
   "execution_count": 34,
   "metadata": {
    "collapsed": false
   },
   "outputs": [],
   "source": [
    "# calculating the percentage of dissatisfied employees in each 'service_cat' group\n",
    "dis_pivot = combined_updated.pivot_table(values='dissatisfied', index='service_cat')"
   ]
  },
  {
   "cell_type": "code",
   "execution_count": 35,
   "metadata": {
    "collapsed": false
   },
   "outputs": [
    {
     "data": {
      "text/plain": [
       "<matplotlib.axes._subplots.AxesSubplot at 0x7f2bd55005f8>"
      ]
     },
     "execution_count": 35,
     "metadata": {},
     "output_type": "execute_result"
    },
    {
     "data": {
      "image/png": "[encoded data removed]",
      "text/plain": [
       "<matplotlib.figure.Figure at 0x7f2bd479f7b8>"
      ]
     },
     "metadata": {},
     "output_type": "display_data"
    }
   ],
   "source": [
    "# plot bar chart of data above\n",
    "dis_pivot.plot(kind='bar', rot=30)"
   ]
  },
  {
   "cell_type": "markdown",
   "metadata": {},
   "source": [
    "From the initial analysis, we found that employees in the 'Established' and 'Veteran' categories (7+ years of employment) are more likely to resign due to dissatisfaction."
   ]
  },
  {
   "cell_type": "markdown",
   "metadata": {},
   "source": [
    "## Further steps\n",
    "In this guided project, we experienced that in order to extract any meaningful insights from our data, we had to perform many data cleaning tasks. In order to create one visualization (and not even the final one), we completed the following tasks:\n",
    "\n",
    "- Explored the data and figured out how to prepare it for analysis\n",
    "- Corrected some of the missing values\n",
    "- Dropped any data not needed for our analysis\n",
    "- Renamed our columns\n",
    "- Verified the quality of our data\n",
    "- Created a new institute_service column\n",
    "- Cleaned the Contributing Factors columns\n",
    "- Created a new column indicating if an employee resigned because they were dissatisfied in some way\n",
    "- Combined the data\n",
    "- Cleaned the institute_service column\n",
    "- Handled the missing values in the dissatisfied column\n",
    "- Aggregated the data\n",
    "\n",
    "Possible continuation of project:\n",
    "\n",
    "- Decide how to handle the rest of the missing values. Then, aggregate the data according to the service_cat column again. How many people in each career stage resigned due to some kind of dissatisfaction?\n",
    "- Clean the age column. How many people in each age group resgined due to some kind of dissatisfaction?\n",
    "- Instead of analyzing the survey results together, analyze each survey separately. Did more employees in the DETE survey or TAFE survey end their employment because they were dissatisfied in some way?\n",
    "- Format your project using Dataquest's project style guide."
   ]
  },
  {
   "cell_type": "code",
   "execution_count": null,
   "metadata": {
    "collapsed": true
   },
   "outputs": [],
   "source": []
  }
 ],
 "metadata": {
  "kernelspec": {
   "display_name": "Python 3",
   "language": "python",
   "name": "python3"
  },
  "language_info": {
   "codemirror_mode": {
    "name": "ipython",
    "version": 3
   },
   "file_extension": ".py",
   "mimetype": "text/x-python",
   "name": "python",
   "nbconvert_exporter": "python",
   "pygments_lexer": "ipython3",
   "version": "3.4.3"
  }
 },
 "nbformat": 4,
 "nbformat_minor": 2
}
